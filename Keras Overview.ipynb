{
 "cells": [
  {
   "cell_type": "code",
   "execution_count": 10,
   "metadata": {},
   "outputs": [],
   "source": [
    "# You can safely ignore any warnings on importing this\n",
    "import keras\n",
    "import matplotlib.pyplot as plt\n",
    "import pandas as pd\n",
    "import numpy as np\n",
    "%matplotlib inline"
   ]
  },
  {
   "cell_type": "markdown",
   "metadata": {},
   "source": [
    "## Simple y=mx+b+noise data"
   ]
  },
  {
   "cell_type": "code",
   "execution_count": 2,
   "metadata": {},
   "outputs": [],
   "source": [
    "m = 2\n",
    "b = 3\n",
    "x = np.linspace(0,50,100)\n",
    "\n",
    "# 101 is an arbitrary choice to make sure your random values are same as mine!\n",
    "np.random.seed(101) \n",
    "noise = np.random.normal(loc=0.0,scale=4.0,size=len(x))"
   ]
  },
  {
   "cell_type": "code",
   "execution_count": 3,
   "metadata": {},
   "outputs": [],
   "source": [
    "y = 2*x + b + noise"
   ]
  },
  {
   "cell_type": "code",
   "execution_count": 9,
   "metadata": {},
   "outputs": [
    {
     "data": {
      "image/png": "[encoded data removed]",
      "text/plain": [
       "<Figure size 864x432 with 1 Axes>"
      ]
     },
     "metadata": {},
     "output_type": "display_data"
    }
   ],
   "source": [
    "N, M = 12, 6\n",
    "fig, ax = plt.subplots(figsize=(N, M))\n",
    "plt.plot(x,y,'*')\n",
    "plt.show()"
   ]
  },
  {
   "cell_type": "code",
   "execution_count": 12,
   "metadata": {},
   "outputs": [],
   "source": [
    "from keras.models import Sequential"
   ]
  },
  {
   "cell_type": "code",
   "execution_count": 13,
   "metadata": {},
   "outputs": [],
   "source": [
    "from keras.layers import Dense"
   ]
  },
  {
   "cell_type": "code",
   "execution_count": 14,
   "metadata": {},
   "outputs": [],
   "source": [
    "model = Sequential()\n",
    "\n",
    "model.add(Dense(4, input_dim=1,activation='relu'))\n",
    "\n",
    "model.add(Dense(4, activation='relu'))\n",
    "\n",
    "model.add(Dense(1, activation='linear'))\n",
    "\n",
    "model.compile(loss='mse', optimizer='adam')"
   ]
  },
  {
   "cell_type": "code",
   "execution_count": 15,
   "metadata": {},
   "outputs": [
    {
     "name": "stdout",
     "output_type": "stream",
     "text": [
      "_________________________________________________________________\n",
      "Layer (type)                 Output Shape              Param #   \n",
      "=================================================================\n",
      "dense_1 (Dense)              (None, 4)                 8         \n",
      "_________________________________________________________________\n",
      "dense_2 (Dense)              (None, 4)                 20        \n",
      "_________________________________________________________________\n",
      "dense_3 (Dense)              (None, 1)                 5         \n",
      "=================================================================\n",
      "Total params: 33\n",
      "Trainable params: 33\n",
      "Non-trainable params: 0\n",
      "_________________________________________________________________\n"
     ]
    }
   ],
   "source": [
    "model.summary()"
   ]
  },
  {
   "cell_type": "code",
   "execution_count": 23,
   "metadata": {},
   "outputs": [
    {
     "name": "stdout",
     "output_type": "stream",
     "text": [
      "Epoch 1/100\n",
      "100/100 [==============================] - 0s 71us/step - loss: 21.9856\n",
      "Epoch 2/100\n",
      "100/100 [==============================] - 0s 67us/step - loss: 21.6101\n",
      "Epoch 3/100\n",
      "100/100 [==============================] - 0s 68us/step - loss: 21.2791\n",
      "Epoch 4/100\n",
      "100/100 [==============================] - 0s 71us/step - loss: 20.9454\n",
      "Epoch 5/100\n",
      "100/100 [==============================] - 0s 67us/step - loss: 20.7155\n",
      "Epoch 6/100\n",
      "100/100 [==============================] - 0s 69us/step - loss: 20.4692\n",
      "Epoch 7/100\n",
      "100/100 [==============================] - 0s 68us/step - loss: 20.2807\n",
      "Epoch 8/100\n",
      "100/100 [==============================] - 0s 68us/step - loss: 20.1054\n",
      "Epoch 9/100\n",
      "100/100 [==============================] - 0s 68us/step - loss: 19.9521\n",
      "Epoch 10/100\n",
      "100/100 [==============================] - 0s 69us/step - loss: 19.7894\n",
      "Epoch 11/100\n",
      "100/100 [==============================] - 0s 66us/step - loss: 19.6428\n",
      "Epoch 12/100\n",
      "100/100 [==============================] - 0s 67us/step - loss: 19.5274\n",
      "Epoch 13/100\n",
      "100/100 [==============================] - 0s 71us/step - loss: 19.4225\n",
      "Epoch 14/100\n",
      "100/100 [==============================] - 0s 68us/step - loss: 19.2960\n",
      "Epoch 15/100\n",
      "100/100 [==============================] - 0s 64us/step - loss: 19.1737\n",
      "Epoch 16/100\n",
      "100/100 [==============================] - 0s 63us/step - loss: 19.0789\n",
      "Epoch 17/100\n",
      "100/100 [==============================] - 0s 66us/step - loss: 18.9886\n",
      "Epoch 18/100\n",
      "100/100 [==============================] - 0s 66us/step - loss: 18.8809\n",
      "Epoch 19/100\n",
      "100/100 [==============================] - 0s 69us/step - loss: 18.8284\n",
      "Epoch 20/100\n",
      "100/100 [==============================] - 0s 67us/step - loss: 18.7251\n",
      "Epoch 21/100\n",
      "100/100 [==============================] - 0s 66us/step - loss: 18.6946\n",
      "Epoch 22/100\n",
      "100/100 [==============================] - 0s 68us/step - loss: 18.6511\n",
      "Epoch 23/100\n",
      "100/100 [==============================] - 0s 66us/step - loss: 18.6123\n",
      "Epoch 24/100\n",
      "100/100 [==============================] - 0s 70us/step - loss: 18.5822\n",
      "Epoch 25/100\n",
      "100/100 [==============================] - 0s 67us/step - loss: 18.5528\n",
      "Epoch 26/100\n",
      "100/100 [==============================] - 0s 68us/step - loss: 18.5217\n",
      "Epoch 27/100\n",
      "100/100 [==============================] - 0s 66us/step - loss: 18.4910\n",
      "Epoch 28/100\n",
      "100/100 [==============================] - 0s 65us/step - loss: 18.4684\n",
      "Epoch 29/100\n",
      "100/100 [==============================] - 0s 63us/step - loss: 18.4434\n",
      "Epoch 30/100\n",
      "100/100 [==============================] - 0s 65us/step - loss: 18.4237\n",
      "Epoch 31/100\n",
      "100/100 [==============================] - 0s 71us/step - loss: 18.4152\n",
      "Epoch 32/100\n",
      "100/100 [==============================] - 0s 73us/step - loss: 18.3971\n",
      "Epoch 33/100\n",
      "100/100 [==============================] - 0s 74us/step - loss: 18.3916\n",
      "Epoch 34/100\n",
      "100/100 [==============================] - 0s 67us/step - loss: 18.3792\n",
      "Epoch 35/100\n",
      "100/100 [==============================] - 0s 63us/step - loss: 18.3665\n",
      "Epoch 36/100\n",
      "100/100 [==============================] - 0s 68us/step - loss: 18.3552\n",
      "Epoch 37/100\n",
      "100/100 [==============================] - 0s 72us/step - loss: 18.3474\n",
      "Epoch 38/100\n",
      "100/100 [==============================] - 0s 73us/step - loss: 18.3456\n",
      "Epoch 39/100\n",
      "100/100 [==============================] - 0s 68us/step - loss: 18.3360\n",
      "Epoch 40/100\n",
      "100/100 [==============================] - 0s 68us/step - loss: 18.3392\n",
      "Epoch 41/100\n",
      "100/100 [==============================] - 0s 67us/step - loss: 18.3323\n",
      "Epoch 42/100\n",
      "100/100 [==============================] - 0s 74us/step - loss: 18.3293\n",
      "Epoch 43/100\n",
      "100/100 [==============================] - 0s 77us/step - loss: 18.3328\n",
      "Epoch 44/100\n",
      "100/100 [==============================] - 0s 79us/step - loss: 18.3314\n",
      "Epoch 45/100\n",
      "100/100 [==============================] - 0s 68us/step - loss: 18.3320\n",
      "Epoch 46/100\n",
      "100/100 [==============================] - 0s 75us/step - loss: 18.3326\n",
      "Epoch 47/100\n",
      "100/100 [==============================] - 0s 74us/step - loss: 18.3341\n",
      "Epoch 48/100\n",
      "100/100 [==============================] - 0s 76us/step - loss: 18.3432\n",
      "Epoch 49/100\n",
      "100/100 [==============================] - 0s 70us/step - loss: 18.3372\n",
      "Epoch 50/100\n",
      "100/100 [==============================] - 0s 76us/step - loss: 18.3358\n",
      "Epoch 51/100\n",
      "100/100 [==============================] - 0s 71us/step - loss: 18.3390\n",
      "Epoch 52/100\n",
      "100/100 [==============================] - 0s 72us/step - loss: 18.3470\n",
      "Epoch 53/100\n",
      "100/100 [==============================] - 0s 80us/step - loss: 18.3458\n",
      "Epoch 54/100\n",
      "100/100 [==============================] - 0s 75us/step - loss: 18.3412\n",
      "Epoch 55/100\n",
      "100/100 [==============================] - 0s 68us/step - loss: 18.3416\n",
      "Epoch 56/100\n",
      "100/100 [==============================] - 0s 73us/step - loss: 18.3461\n",
      "Epoch 57/100\n",
      "100/100 [==============================] - 0s 68us/step - loss: 18.3304\n",
      "Epoch 58/100\n",
      "100/100 [==============================] - 0s 66us/step - loss: 18.3291\n",
      "Epoch 59/100\n",
      "100/100 [==============================] - 0s 69us/step - loss: 18.3261\n",
      "Epoch 60/100\n",
      "100/100 [==============================] - 0s 72us/step - loss: 18.3252\n",
      "Epoch 61/100\n",
      "100/100 [==============================] - 0s 72us/step - loss: 18.3212\n",
      "Epoch 62/100\n",
      "100/100 [==============================] - 0s 67us/step - loss: 18.3215\n",
      "Epoch 63/100\n",
      "100/100 [==============================] - 0s 66us/step - loss: 18.3184\n",
      "Epoch 64/100\n",
      "100/100 [==============================] - 0s 65us/step - loss: 18.3184\n",
      "Epoch 65/100\n",
      "100/100 [==============================] - 0s 64us/step - loss: 18.3176\n",
      "Epoch 66/100\n",
      "100/100 [==============================] - 0s 67us/step - loss: 18.3206\n",
      "Epoch 67/100\n",
      "100/100 [==============================] - 0s 68us/step - loss: 18.3220\n",
      "Epoch 68/100\n",
      "100/100 [==============================] - 0s 67us/step - loss: 18.3189\n",
      "Epoch 69/100\n",
      "100/100 [==============================] - 0s 70us/step - loss: 18.3164\n",
      "Epoch 70/100\n",
      "100/100 [==============================] - 0s 67us/step - loss: 18.3190\n",
      "Epoch 71/100\n",
      "100/100 [==============================] - 0s 70us/step - loss: 18.3132\n",
      "Epoch 72/100\n",
      "100/100 [==============================] - 0s 66us/step - loss: 18.3120\n",
      "Epoch 73/100\n",
      "100/100 [==============================] - 0s 67us/step - loss: 18.3122\n",
      "Epoch 74/100\n",
      "100/100 [==============================] - 0s 67us/step - loss: 18.3087\n",
      "Epoch 75/100\n",
      "100/100 [==============================] - 0s 66us/step - loss: 18.3110\n",
      "Epoch 76/100\n",
      "100/100 [==============================] - 0s 68us/step - loss: 18.3072\n",
      "Epoch 77/100\n",
      "100/100 [==============================] - 0s 66us/step - loss: 18.3066\n",
      "Epoch 78/100\n",
      "100/100 [==============================] - 0s 66us/step - loss: 18.3062\n",
      "Epoch 79/100\n",
      "100/100 [==============================] - 0s 67us/step - loss: 18.3060\n",
      "Epoch 80/100\n",
      "100/100 [==============================] - 0s 67us/step - loss: 18.3036\n",
      "Epoch 81/100\n",
      "100/100 [==============================] - 0s 67us/step - loss: 18.3055\n",
      "Epoch 82/100\n",
      "100/100 [==============================] - 0s 66us/step - loss: 18.3051\n",
      "Epoch 83/100\n",
      "100/100 [==============================] - 0s 65us/step - loss: 18.3029\n",
      "Epoch 84/100\n",
      "100/100 [==============================] - 0s 66us/step - loss: 18.3012\n",
      "Epoch 85/100\n",
      "100/100 [==============================] - 0s 71us/step - loss: 18.2977\n",
      "Epoch 86/100\n",
      "100/100 [==============================] - 0s 68us/step - loss: 18.2986\n",
      "Epoch 87/100\n",
      "100/100 [==============================] - 0s 67us/step - loss: 18.2975\n",
      "Epoch 88/100\n",
      "100/100 [==============================] - 0s 77us/step - loss: 18.2964\n",
      "Epoch 89/100\n",
      "100/100 [==============================] - 0s 72us/step - loss: 18.2957\n",
      "Epoch 90/100\n",
      "100/100 [==============================] - 0s 65us/step - loss: 18.2901\n",
      "Epoch 91/100\n",
      "100/100 [==============================] - 0s 71us/step - loss: 18.2831\n",
      "Epoch 92/100\n",
      "100/100 [==============================] - 0s 70us/step - loss: 18.2886\n",
      "Epoch 93/100\n",
      "100/100 [==============================] - 0s 69us/step - loss: 18.2888\n",
      "Epoch 94/100\n",
      "100/100 [==============================] - 0s 67us/step - loss: 18.2902\n",
      "Epoch 95/100\n",
      "100/100 [==============================] - 0s 66us/step - loss: 18.3047\n",
      "Epoch 96/100\n",
      "100/100 [==============================] - 0s 68us/step - loss: 18.2971\n",
      "Epoch 97/100\n"
     ]
    },
    {
     "name": "stdout",
     "output_type": "stream",
     "text": [
      "100/100 [==============================] - 0s 66us/step - loss: 18.2943\n",
      "Epoch 98/100\n",
      "100/100 [==============================] - 0s 69us/step - loss: 18.2935\n",
      "Epoch 99/100\n",
      "100/100 [==============================] - 0s 66us/step - loss: 18.2939\n",
      "Epoch 100/100\n",
      "100/100 [==============================] - 0s 67us/step - loss: 18.2920\n"
     ]
    },
    {
     "data": {
      "text/plain": [
       "<keras.callbacks.History at 0x7fc050575908>"
      ]
     },
     "execution_count": 23,
     "metadata": {},
     "output_type": "execute_result"
    }
   ],
   "source": [
    "model.fit(x,y, epochs=100)"
   ]
  },
  {
   "cell_type": "code",
   "execution_count": 24,
   "metadata": {},
   "outputs": [
    {
     "data": {
      "text/plain": [
       "[21.98558525085449,\n",
       " 21.610103759765625,\n",
       " 21.2790913772583,\n",
       " 20.945403747558593,\n",
       " 20.715511474609375,\n",
       " 20.469237327575684,\n",
       " 20.280730628967284,\n",
       " 20.105362548828126,\n",
       " 19.952080841064454,\n",
       " 19.789375286102295,\n",
       " 19.64276617050171,\n",
       " 19.527430267333983,\n",
       " 19.4225252532959,\n",
       " 19.295995178222658,\n",
       " 19.173651428222655,\n",
       " 19.078883180618288,\n",
       " 18.98856819152832,\n",
       " 18.88088592529297,\n",
       " 18.828445625305175,\n",
       " 18.72510000228882,\n",
       " 18.694610176086425,\n",
       " 18.65105857849121,\n",
       " 18.612279777526854,\n",
       " 18.582157592773438,\n",
       " 18.552808818817137,\n",
       " 18.521721954345704,\n",
       " 18.491029815673826,\n",
       " 18.468407821655273,\n",
       " 18.443420791625975,\n",
       " 18.42368965148926,\n",
       " 18.415172576904297,\n",
       " 18.397093658447265,\n",
       " 18.391617126464844,\n",
       " 18.3791886138916,\n",
       " 18.36654266357422,\n",
       " 18.355185165405274,\n",
       " 18.34739517211914,\n",
       " 18.3455694770813,\n",
       " 18.335966186523436,\n",
       " 18.339163131713867,\n",
       " 18.332300109863283,\n",
       " 18.329342041015625,\n",
       " 18.33277286529541,\n",
       " 18.331429595947267,\n",
       " 18.332020263671875,\n",
       " 18.332578125,\n",
       " 18.33414722442627,\n",
       " 18.343210334777833,\n",
       " 18.337206344604493,\n",
       " 18.335775909423827,\n",
       " 18.338978576660157,\n",
       " 18.34700859069824,\n",
       " 18.345759086608886,\n",
       " 18.341178131103515,\n",
       " 18.34163299560547,\n",
       " 18.34610076904297,\n",
       " 18.330448570251466,\n",
       " 18.32913734436035,\n",
       " 18.326116333007814,\n",
       " 18.3251936340332,\n",
       " 18.32122985839844,\n",
       " 18.321498775482176,\n",
       " 18.31841468811035,\n",
       " 18.31842514038086,\n",
       " 18.31756275177002,\n",
       " 18.320619678497316,\n",
       " 18.322018432617188,\n",
       " 18.31894618988037,\n",
       " 18.31639518737793,\n",
       " 18.319028596878052,\n",
       " 18.313231296539307,\n",
       " 18.312048721313477,\n",
       " 18.312222242355347,\n",
       " 18.308667755126955,\n",
       " 18.311031799316407,\n",
       " 18.307239532470703,\n",
       " 18.306619701385497,\n",
       " 18.306192455291747,\n",
       " 18.306032943725587,\n",
       " 18.303599014282227,\n",
       " 18.305518589019776,\n",
       " 18.305106964111328,\n",
       " 18.302867889404297,\n",
       " 18.301177787780762,\n",
       " 18.297728958129884,\n",
       " 18.298555297851564,\n",
       " 18.29746711730957,\n",
       " 18.296449661254883,\n",
       " 18.29572280883789,\n",
       " 18.29009262084961,\n",
       " 18.283055038452147,\n",
       " 18.2886100769043,\n",
       " 18.28880325317383,\n",
       " 18.290230684280395,\n",
       " 18.304660034179687,\n",
       " 18.29707046508789,\n",
       " 18.294323120117188,\n",
       " 18.29347755432129,\n",
       " 18.293873977661132,\n",
       " 18.29203826904297]"
      ]
     },
     "execution_count": 24,
     "metadata": {},
     "output_type": "execute_result"
    }
   ],
   "source": [
    "model.history.history['loss']"
   ]
  },
  {
   "cell_type": "code",
   "execution_count": 25,
   "metadata": {},
   "outputs": [],
   "source": [
    "# plot loss vs epoch\n",
    "loss = model.history.history['loss']\n",
    "\n",
    "epochs = range(len(loss))\n"
   ]
  },
  {
   "cell_type": "code",
   "execution_count": 26,
   "metadata": {},
   "outputs": [
    {
     "data": {
      "image/png": "[encoded data removed]",
      "text/plain": [
       "<Figure size 864x432 with 1 Axes>"
      ]
     },
     "metadata": {},
     "output_type": "display_data"
    }
   ],
   "source": [
    "N, M = 12, 6\n",
    "fig, ax = plt.subplots(figsize=(N, M))\n",
    "plt.plot(epochs, loss)\n",
    "plt.show()"
   ]
  },
  {
   "cell_type": "code",
   "execution_count": 27,
   "metadata": {},
   "outputs": [],
   "source": [
    "x_for_predictions = np.linspace(0,50,100)\n",
    "\n",
    "\n",
    "y_pred = model.predict(x_for_predictions)"
   ]
  },
  {
   "cell_type": "code",
   "execution_count": 28,
   "metadata": {},
   "outputs": [
    {
     "data": {
      "text/plain": [
       "array([[  2.1790266],\n",
       "       [  3.2085292],\n",
       "       [  4.2380323],\n",
       "       [  5.267535 ],\n",
       "       [  6.297038 ],\n",
       "       [  7.326541 ],\n",
       "       [  8.356044 ],\n",
       "       [  9.385547 ],\n",
       "       [ 10.41505  ],\n",
       "       [ 11.444553 ],\n",
       "       [ 12.474055 ],\n",
       "       [ 13.503558 ],\n",
       "       [ 14.53306  ],\n",
       "       [ 15.562566 ],\n",
       "       [ 16.592068 ],\n",
       "       [ 17.62157  ],\n",
       "       [ 18.651073 ],\n",
       "       [ 19.680576 ],\n",
       "       [ 20.71008  ],\n",
       "       [ 21.739582 ],\n",
       "       [ 22.769085 ],\n",
       "       [ 23.798588 ],\n",
       "       [ 24.82809  ],\n",
       "       [ 25.857594 ],\n",
       "       [ 26.887096 ],\n",
       "       [ 27.9166   ],\n",
       "       [ 28.946102 ],\n",
       "       [ 29.975605 ],\n",
       "       [ 31.005108 ],\n",
       "       [ 32.03461  ],\n",
       "       [ 33.064114 ],\n",
       "       [ 34.093613 ],\n",
       "       [ 35.12312  ],\n",
       "       [ 36.152622 ],\n",
       "       [ 37.182125 ],\n",
       "       [ 38.211624 ],\n",
       "       [ 39.24113  ],\n",
       "       [ 40.270638 ],\n",
       "       [ 41.30014  ],\n",
       "       [ 42.329643 ],\n",
       "       [ 43.359142 ],\n",
       "       [ 44.38865  ],\n",
       "       [ 45.41815  ],\n",
       "       [ 46.447655 ],\n",
       "       [ 47.477154 ],\n",
       "       [ 48.506657 ],\n",
       "       [ 49.536163 ],\n",
       "       [ 50.565662 ],\n",
       "       [ 51.59517  ],\n",
       "       [ 52.62467  ],\n",
       "       [ 53.654175 ],\n",
       "       [ 54.68368  ],\n",
       "       [ 55.71318  ],\n",
       "       [ 56.742683 ],\n",
       "       [ 57.772182 ],\n",
       "       [ 58.80169  ],\n",
       "       [ 59.83119  ],\n",
       "       [ 60.860695 ],\n",
       "       [ 61.890198 ],\n",
       "       [ 62.919697 ],\n",
       "       [ 63.949203 ],\n",
       "       [ 64.97871  ],\n",
       "       [ 66.00821  ],\n",
       "       [ 67.03771  ],\n",
       "       [ 68.067215 ],\n",
       "       [ 69.0967   ],\n",
       "       [ 70.12621  ],\n",
       "       [ 71.155716 ],\n",
       "       [ 72.18522  ],\n",
       "       [ 73.21473  ],\n",
       "       [ 74.244225 ],\n",
       "       [ 75.27373  ],\n",
       "       [ 76.30324  ],\n",
       "       [ 77.33274  ],\n",
       "       [ 78.36224  ],\n",
       "       [ 79.39174  ],\n",
       "       [ 80.42124  ],\n",
       "       [ 81.45075  ],\n",
       "       [ 82.480255 ],\n",
       "       [ 83.50976  ],\n",
       "       [ 84.53926  ],\n",
       "       [ 85.568756 ],\n",
       "       [ 86.59827  ],\n",
       "       [ 87.62777  ],\n",
       "       [ 88.65727  ],\n",
       "       [ 89.686775 ],\n",
       "       [ 90.71628  ],\n",
       "       [ 91.74578  ],\n",
       "       [ 92.775276 ],\n",
       "       [ 93.80478  ],\n",
       "       [ 94.83428  ],\n",
       "       [ 95.863785 ],\n",
       "       [ 96.893295 ],\n",
       "       [ 97.9228   ],\n",
       "       [ 98.95229  ],\n",
       "       [ 99.9818   ],\n",
       "       [101.0113   ],\n",
       "       [102.04081  ],\n",
       "       [103.07031  ],\n",
       "       [104.09981  ]], dtype=float32)"
      ]
     },
     "execution_count": 28,
     "metadata": {},
     "output_type": "execute_result"
    }
   ],
   "source": [
    "y_pred"
   ]
  },
  {
   "cell_type": "code",
   "execution_count": 29,
   "metadata": {},
   "outputs": [
    {
     "data": {
      "image/png": "[encoded data removed]",
      "text/plain": [
       "<Figure size 864x432 with 1 Axes>"
      ]
     },
     "metadata": {},
     "output_type": "display_data"
    }
   ],
   "source": [
    "N, M = 12, 6\n",
    "fig, ax = plt.subplots(figsize=(N, M))\n",
    "plt.plot(x,y,'*')\n",
    "plt.plot(x_for_predictions, y_pred, 'red')\n",
    "plt.show()"
   ]
  },
  {
   "cell_type": "code",
   "execution_count": 30,
   "metadata": {},
   "outputs": [],
   "source": [
    "from sklearn.metrics import mean_squared_error"
   ]
  },
  {
   "cell_type": "code",
   "execution_count": 31,
   "metadata": {},
   "outputs": [
    {
     "data": {
      "text/plain": [
       "18.289750747551082"
      ]
     },
     "execution_count": 31,
     "metadata": {},
     "output_type": "execute_result"
    }
   ],
   "source": [
    "mean_squared_error(y, y_pred)"
   ]
  },
  {
   "cell_type": "code",
   "execution_count": 33,
   "metadata": {},
   "outputs": [
    {
     "data": {
      "text/plain": [
       "53.66547952169245"
      ]
     },
     "execution_count": 33,
     "metadata": {},
     "output_type": "execute_result"
    }
   ],
   "source": [
    "mean = y.mean()\n",
    "mean"
   ]
  },
  {
   "cell_type": "code",
   "execution_count": null,
   "metadata": {},
   "outputs": [],
   "source": []
  }
 ],
 "metadata": {
  "kernelspec": {
   "display_name": "Python 3",
   "language": "python",
   "name": "python3"
  },
  "language_info": {
   "codemirror_mode": {
    "name": "ipython",
    "version": 3
   },
   "file_extension": ".py",
   "mimetype": "text/x-python",
   "name": "python",
   "nbconvert_exporter": "python",
   "pygments_lexer": "ipython3",
   "version": "3.6.6"
  }
 },
 "nbformat": 4,
 "nbformat_minor": 2
}
